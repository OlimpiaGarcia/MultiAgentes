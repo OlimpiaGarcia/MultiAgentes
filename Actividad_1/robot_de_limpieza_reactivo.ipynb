{
  "cells": [
    {
      "cell_type": "markdown",
      "metadata": {},
      "source": [
        "Olimpia Helena García Huerta\n",
        "A01708462\n",
        "M1. Actividad "
      ]
    },
    {
      "cell_type": "code",
      "execution_count": 58,
      "metadata": {
        "id": "3-CN94lEkum0"
      },
      "outputs": [],
      "source": [
        "# Importamos las clases que se requieren para manejar los agentes (Agent) y su entorno (Model).\n",
        "# Cada modelo puede contener múltiples agentes.\n",
        "from mesa import Agent, Model\n",
        "\n",
        "from mesa.space import MultiGrid\n",
        "\n",
        "# Con ''RandomActivation'', hacemos que todos los agentes se activen ''al mismo tiempo''.\n",
        "from mesa.time import RandomActivation\n",
        "\n",
        "# Haremos uso de ''DataCollector'' para obtener información de cada paso de la simulación.\n",
        "from mesa.datacollection import DataCollector\n",
        "\n",
        "# matplotlib lo usaremos crear una animación de cada uno de los pasos del modelo.\n",
        "%matplotlib inline\n",
        "import matplotlib\n",
        "import matplotlib.pyplot as plt\n",
        "import matplotlib.animation as animation\n",
        "plt.rcParams[\"animation.html\"] = \"jshtml\"\n",
        "matplotlib.rcParams['animation.embed_limit'] = 2**128\n",
        "\n",
        "# Importamos los siguientes paquetes para el mejor manejo de valores numéricos.\n",
        "import numpy as np\n",
        "import pandas as pd\n",
        "\n",
        "# Importamos la libreria para generar numeros aleatorios\n",
        "import random\n",
        "\n",
        "# Definimos otros paquetes que vamos a usar para medir el tiempo de ejecución de nuestro algoritmo.\n",
        "import time as tm\n",
        "import datetime"
      ]
    },
    {
      "cell_type": "code",
      "execution_count": 59,
      "metadata": {
        "id": "BTpqeaEMY_gq"
      },
      "outputs": [],
      "source": [
        "## Definición del agente\n",
        "class VacumAgent(Agent):\n",
        "  def __init__(self, id, model):\n",
        "    super().__init__(id,model)\n",
        "    ##self.position = (x,y)\n",
        "\n",
        "  ## Función para limpiar la celda\n",
        "  def vacum(self):\n",
        "    self.model.clean_cell(self.pos)\n",
        "    self.model.cleaned += 1 \n",
        "\n",
        "  ##Movimiento del agente\n",
        "  def move(self):\n",
        "    if self.model.is_dirty(self.pos):\n",
        "      self.vacum()\n",
        "      ## el agente elije una dirección aleatoria para moverse (unas de \n",
        "      # las 8 celdas vecinas) y elije la acción de movimiento (si no \n",
        "      # puede moverse allí, permanecerá en la misma celda).\n",
        "    else:\n",
        "      possible_moves = self.model.grid.get_neighborhood(self.pos, \n",
        "                                                        moore = True, \n",
        "                                                        include_center = False)\n",
        "      new_position = random.choice(possible_moves)\n",
        "      self.model.grid.move_agent(self, new_position)\n",
        "\n",
        "\n",
        "  ## establece que va a hacer el agente cada ciclo,\n",
        "  def step(self):\n",
        "    self.move()\n"
      ]
    },
    {
      "cell_type": "code",
      "execution_count": 28,
      "metadata": {
        "id": "zwAkPxxgpcfR"
      },
      "outputs": [],
      "source": [
        "##aqui se llena la matriz de ceros y unos\n",
        "def get_grid(model):\n",
        "  grid = np.zeros( (model.grid.width, model.grid.height))\n",
        "  for (x, y) in model.dirty_cells:\n",
        "    grid[x][y] = 1\n",
        "  \n",
        "  for (content, (x,y)) in model.grid.coord_iter():\n",
        "    if content == None:\n",
        "      grid[x][y] = 0\n",
        "\n",
        "  return grid"
      ]
    },
    {
      "cell_type": "code",
      "execution_count": 29,
      "metadata": {},
      "outputs": [],
      "source": [
        "##genera el modelo de la simulaión\n",
        "class VacumModel(Model):\n",
        "    def __init__(self, width, height, vacums, dirty_cells_p):\n",
        "        self.schedule = RandomActivation(self)\n",
        "        self.grid = MultiGrid(width, height, torus = False)\n",
        "        self.datacollector = DataCollector(model_reporters = {\"Grid\" : get_grid})\n",
        "\n",
        "        ##crea las celdas sucias\n",
        "        dirty_cells = int(dirty_cells_p * width * height)\n",
        "        self.dirty_cells = set(random.sample([(x,y) for x in range(width) for y in range(height)], dirty_cells))\n",
        "        self.cleaned = 0\n",
        "\n",
        "        ##posiciona los agentes\n",
        "        for i in range (vacums):\n",
        "            agent = VacumAgent(i, self)\n",
        "            self.schedule.add(agent)\n",
        "            self.grid.place_agent(agent, (0, 0))\n",
        "\n",
        "    ##checa si la celda esta sucia\n",
        "    def is_dirty(self, pos: tuple) -> bool:\n",
        "        if pos in self.dirty_cells:\n",
        "            return True\n",
        "        else:\n",
        "            return False\n",
        "\n",
        "\n",
        "    ##Contador de celdas sucias\n",
        "    def count_dirty(self):\n",
        "        return len(self.dirty_cells)\n",
        "    \n",
        "    ##limpia la celda\n",
        "    def clean_cell(self, pos):\n",
        "        self.dirty_cells.discard(pos)\n",
        "\n",
        "    ## steps de la simulación\n",
        "    def step(self):\n",
        "        self.datacollector.collect(self)\n",
        "        self.schedule.step()\n",
        "        "
      ]
    },
    {
      "cell_type": "markdown",
      "metadata": {},
      "source": [
        "Escenario 1:\n",
        "Agentes: 1\n",
        "Celdas sucias: 90%\n",
        "Iteraciones: 100"
      ]
    },
    {
      "cell_type": "code",
      "execution_count": 30,
      "metadata": {},
      "outputs": [
        {
          "name": "stdout",
          "output_type": "stream",
          "text": [
            "Tiempo de ejecución:  0.68 segundos\n",
            "Celdas limpias:  33\n",
            "Celdas sucias: 89.67%\n",
            "\n"
          ]
        }
      ],
      "source": [
        "##constantes:\n",
        "WIDTH = 100\n",
        "HEIGHT = 100\n",
        "VACUMS = 1\n",
        "ITERATIONS = 100\n",
        "DIRTY_CELLS_PERCENT = 0.90\n",
        "\n",
        "##Conntador del tiempo\n",
        "start_time = tm.time()\n",
        "\n",
        "##crea el modelo\n",
        "escenario1 = VacumModel(WIDTH, HEIGHT, VACUMS, DIRTY_CELLS_PERCENT)\n",
        "\n",
        "##recorrer el modelo\n",
        "for i in range (ITERATIONS):\n",
        "    escenario1.step()\n",
        "\n",
        "##finalizar contador\n",
        "end_time = tm.time()\n",
        "\n",
        "##tiempo de ejecución\n",
        "execution_time = float(end_time - start_time)\n",
        "\n",
        "##imprime el tiempo de ejecución\n",
        "print(\"Tiempo de ejecución: \", f\"{execution_time:.2f}\", \"segundos\")\n",
        "\n",
        "##imprime el número de celdas limpias\n",
        "print(\"Celdas limpias: \", escenario1.cleaned)\n",
        "\n",
        "##calclula el porcentaje de celdas sucias\n",
        "final_dirty = escenario1.count_dirty() / (WIDTH * HEIGHT) * 100  \n",
        "\n",
        "##imprime el porcentaje de celdas sucias\n",
        "print(f\"Celdas sucias: {final_dirty:.2f}%\\n\")"
      ]
    },
    {
      "cell_type": "markdown",
      "metadata": {},
      "source": [
        "Escenario 1.1:\n",
        "Agentes: 1\n",
        "Celdas sucias: 90%\n",
        "Iteraciones: 1000"
      ]
    },
    {
      "cell_type": "code",
      "execution_count": 31,
      "metadata": {},
      "outputs": [
        {
          "name": "stdout",
          "output_type": "stream",
          "text": [
            "Tiempo de ejecución:  6.65 segundos\n",
            "Celdas limpias:  209\n",
            "Celdas sucias: 87.91%\n",
            "\n"
          ]
        }
      ],
      "source": [
        "##constantes:\n",
        "WIDTH = 100\n",
        "HEIGHT = 100\n",
        "VACUMS = 1\n",
        "ITERATIONS = 1000\n",
        "DIRTY_CELLS_PERCENT = 0.90\n",
        "\n",
        "##Conntador del tiempo\n",
        "start_time = tm.time()\n",
        "\n",
        "##crea el modelo\n",
        "escenario11 = VacumModel(WIDTH, HEIGHT, VACUMS, DIRTY_CELLS_PERCENT)\n",
        "\n",
        "##recorrer el modelo\n",
        "for i in range (ITERATIONS):\n",
        "    escenario11.step()\n",
        "\n",
        "##finalizar contador\n",
        "end_time = tm.time()\n",
        "\n",
        "##tiempo de ejecución\n",
        "execution_time = float(end_time - start_time)\n",
        "\n",
        "##imprime el tiempo de ejecución\n",
        "\n",
        "print(\"Tiempo de ejecución: \", f\"{execution_time:.2f}\", \"segundos\")\n",
        "\n",
        "##imprime el número de celdas limpias\n",
        "print(\"Celdas limpias: \", escenario11.cleaned)\n",
        "\n",
        "##calclula el porcentaje de celdas sucias\n",
        "final_dirty = escenario11.count_dirty() / (WIDTH * HEIGHT) * 100  \n",
        "\n",
        "##imprime el porcentaje de celdas sucias\n",
        "print(f\"Celdas sucias: {final_dirty:.2f}%\\n\")"
      ]
    },
    {
      "cell_type": "markdown",
      "metadata": {},
      "source": [
        "Escenario 1.2:\n",
        "Agentes: 1\n",
        "Celdas sucias: 90%\n",
        "Iteraciones: 10000"
      ]
    },
    {
      "cell_type": "code",
      "execution_count": 32,
      "metadata": {},
      "outputs": [
        {
          "name": "stdout",
          "output_type": "stream",
          "text": [
            "Tiempo de ejecución:  55.56 segundos\n",
            "Celdas limpias:  2027\n",
            "Celdas sucias: 69.73%\n",
            "\n"
          ]
        }
      ],
      "source": [
        "##constantes:\n",
        "WIDTH = 100\n",
        "HEIGHT = 100\n",
        "VACUMS = 1\n",
        "ITERATIONS = 10000\n",
        "DIRTY_CELLS_PERCENT = 0.90\n",
        "\n",
        "##Conntador del tiempo\n",
        "start_time = tm.time()\n",
        "\n",
        "##crea el modelo\n",
        "escenario12 = VacumModel(WIDTH, HEIGHT, VACUMS, DIRTY_CELLS_PERCENT)\n",
        "\n",
        "##recorrer el modelo\n",
        "for i in range (ITERATIONS):\n",
        "    escenario12.step()\n",
        "\n",
        "##finalizar contador\n",
        "end_time = tm.time()\n",
        "\n",
        "##tiempo de ejecución\n",
        "execution_time = float(end_time - start_time)\n",
        "\n",
        "##imprime el tiempo de ejecución\n",
        "\n",
        "print(\"Tiempo de ejecución: \", f\"{execution_time:.2f}\", \"segundos\")\n",
        "\n",
        "##imprime el número de celdas limpias\n",
        "print(\"Celdas limpias: \", escenario12.cleaned)\n",
        "\n",
        "##calclula el porcentaje de celdas sucias\n",
        "final_dirty = escenario12.count_dirty() / (WIDTH * HEIGHT) * 100  \n",
        "\n",
        "##imprime el porcentaje de celdas sucias\n",
        "print(f\"Celdas sucias: {final_dirty:.2f}%\\n\")"
      ]
    },
    {
      "cell_type": "markdown",
      "metadata": {},
      "source": [
        "Escenario 2:\n",
        "Agentes: 2\n",
        "Celdas sucias: 90%\n",
        "Iteraciones: 100"
      ]
    },
    {
      "cell_type": "code",
      "execution_count": 33,
      "metadata": {},
      "outputs": [
        {
          "name": "stdout",
          "output_type": "stream",
          "text": [
            "Tiempo de ejecución:  0.79 segundos\n",
            "Celdas limpias:  35\n",
            "Celdas sucias: 89.65%\n",
            "\n"
          ]
        }
      ],
      "source": [
        "##constantes:\n",
        "WIDTH = 100\n",
        "HEIGHT = 100\n",
        "VACUMS = 2\n",
        "ITERATIONS = 100\n",
        "DIRTY_CELLS_PERCENT = 0.90\n",
        "\n",
        "##Conntador del tiempo\n",
        "start_time = tm.time()\n",
        "\n",
        "##crea el modelo\n",
        "escenario2 = VacumModel(WIDTH, HEIGHT, VACUMS, DIRTY_CELLS_PERCENT)\n",
        "\n",
        "##recorrer el modelo\n",
        "for i in range (ITERATIONS):\n",
        "    escenario2.step()\n",
        "\n",
        "##finalizar contador\n",
        "end_time = tm.time()\n",
        "\n",
        "##tiempo de ejecución\n",
        "execution_time = float(end_time - start_time)\n",
        "\n",
        "##imprime el tiempo de ejecución\n",
        "\n",
        "print(\"Tiempo de ejecución: \", f\"{execution_time:.2f}\", \"segundos\")\n",
        "\n",
        "##imprime el número de celdas limpias\n",
        "print(\"Celdas limpias: \", escenario2.cleaned)\n",
        "\n",
        "##calclula el porcentaje de celdas sucias\n",
        "final_dirty = escenario2.count_dirty() / (WIDTH * HEIGHT) * 100  \n",
        "\n",
        "##imprime el porcentaje de celdas sucias\n",
        "print(f\"Celdas sucias: {final_dirty:.2f}%\\n\")"
      ]
    },
    {
      "cell_type": "markdown",
      "metadata": {},
      "source": [
        "Escenario 2.1:\n",
        "Agentes: 2\n",
        "Celdas sucias: 90%\n",
        "Iteraciones: 1000"
      ]
    },
    {
      "cell_type": "code",
      "execution_count": 34,
      "metadata": {},
      "outputs": [
        {
          "name": "stdout",
          "output_type": "stream",
          "text": [
            "Tiempo de ejecución:  6.54 segundos\n",
            "Celdas limpias:  362\n",
            "Celdas sucias: 86.38%\n",
            "\n"
          ]
        }
      ],
      "source": [
        "##constantes:\n",
        "WIDTH = 100\n",
        "HEIGHT = 100\n",
        "VACUMS = 2\n",
        "ITERATIONS = 1000\n",
        "DIRTY_CELLS_PERCENT = 0.90\n",
        "\n",
        "##Conntador del tiempo\n",
        "start_time = tm.time()\n",
        "\n",
        "##crea el modelo\n",
        "escenario21 = VacumModel(WIDTH, HEIGHT, VACUMS, DIRTY_CELLS_PERCENT)\n",
        "\n",
        "##recorrer el modelo\n",
        "for i in range (ITERATIONS):\n",
        "    escenario21.step()\n",
        "\n",
        "##finalizar contador\n",
        "end_time = tm.time()\n",
        "\n",
        "##tiempo de ejecución\n",
        "execution_time = float(end_time - start_time)\n",
        "\n",
        "##imprime el tiempo de ejecución\n",
        "\n",
        "print(\"Tiempo de ejecución: \", f\"{execution_time:.2f}\", \"segundos\")\n",
        "\n",
        "##imprime el número de celdas limpias\n",
        "print(\"Celdas limpias: \", escenario21.cleaned)\n",
        "\n",
        "##calclula el porcentaje de celdas sucias\n",
        "final_dirty = escenario21.count_dirty() / (WIDTH * HEIGHT) * 100  \n",
        "\n",
        "##imprime el porcentaje de celdas sucias\n",
        "print(f\"Celdas sucias: {final_dirty:.2f}%\\n\")"
      ]
    },
    {
      "cell_type": "markdown",
      "metadata": {},
      "source": [
        "Escenario 2.2:\n",
        "Agentes: 2\n",
        "Celdas sucias: 90%\n",
        "Iteraciones: 10000"
      ]
    },
    {
      "cell_type": "code",
      "execution_count": 35,
      "metadata": {},
      "outputs": [
        {
          "name": "stdout",
          "output_type": "stream",
          "text": [
            "Tiempo de ejecución:  55.73 segundos\n",
            "Celdas limpias:  4399\n",
            "Celdas sucias: 46.01%\n",
            "\n"
          ]
        }
      ],
      "source": [
        "##constantes:\n",
        "WIDTH = 100\n",
        "HEIGHT = 100\n",
        "VACUMS = 2\n",
        "ITERATIONS = 10000\n",
        "DIRTY_CELLS_PERCENT = 0.90\n",
        "\n",
        "##Conntador del tiempo\n",
        "start_time = tm.time()\n",
        "\n",
        "##crea el modelo\n",
        "escenario22 = VacumModel(WIDTH, HEIGHT, VACUMS, DIRTY_CELLS_PERCENT)\n",
        "\n",
        "##recorrer el modelo\n",
        "for i in range (ITERATIONS):\n",
        "    escenario22.step()\n",
        "\n",
        "##finalizar contador\n",
        "end_time = tm.time()\n",
        "\n",
        "##tiempo de ejecución\n",
        "execution_time = float(end_time - start_time)\n",
        "\n",
        "##imprime el tiempo de ejecución\n",
        "\n",
        "print(\"Tiempo de ejecución: \", f\"{execution_time:.2f}\", \"segundos\")\n",
        "\n",
        "##imprime el número de celdas limpias\n",
        "print(\"Celdas limpias: \", escenario22.cleaned)\n",
        "\n",
        "##calclula el porcentaje de celdas sucias\n",
        "final_dirty = escenario22.count_dirty() / (WIDTH * HEIGHT) * 100  \n",
        "\n",
        "##imprime el porcentaje de celdas sucias\n",
        "print(f\"Celdas sucias: {final_dirty:.2f}%\\n\")"
      ]
    },
    {
      "cell_type": "markdown",
      "metadata": {},
      "source": [
        "Escenario 3:\n",
        "Limpiar todo el espacio con una sola aspiradora"
      ]
    },
    {
      "cell_type": "code",
      "execution_count": 36,
      "metadata": {},
      "outputs": [
        {
          "name": "stdout",
          "output_type": "stream",
          "text": [
            "Tiempo de ejecución:  60.14 segundos\n",
            "Total de iteraciones para limpiar el espacio:  54014\n",
            "Celdas sucias:  0\n"
          ]
        }
      ],
      "source": [
        "##constantes:\n",
        "WIDTH = 50\n",
        "HEIGHT = 50\n",
        "VACUMS = 1\n",
        "ITERATIONS = 1000000\n",
        "DIRTY_CELLS_PERCENT = 0.90\n",
        "\n",
        "##Conntador del tiempo\n",
        "start_time = tm.time()\n",
        "\n",
        "##crea el modelo\n",
        "escenario3 = VacumModel(WIDTH, HEIGHT, VACUMS, DIRTY_CELLS_PERCENT)\n",
        "\n",
        "##Contador de iteraciones\n",
        "it_total = 0\n",
        "\n",
        "##recorrer el modelo\n",
        "for i in range (ITERATIONS):\n",
        "    escenario3.step()\n",
        "    it_total += 1\n",
        "    \n",
        "    if escenario3.count_dirty() == 0:\n",
        "        break\n",
        "\n",
        "    if (tm.time() - start_time) > 400:\n",
        "        break\n",
        "\n",
        "##finalizar contador\n",
        "end_time = tm.time()\n",
        "\n",
        "##tiempo de ejecución\n",
        "execution_time = float(end_time - start_time)\n",
        "\n",
        "##imprime el tiempo de ejecución\n",
        "\n",
        "print(\"Tiempo de ejecución: \", f\"{execution_time:.2f}\", \"segundos\")\n",
        "\n",
        "##Iteraciones necesarias\n",
        "print(\"Total de iteraciones para limpiar el espacio: \", it_total)\n",
        "\n",
        "##imprime el número de celdas sucias\n",
        "print(\"Celdas sucias: \", escenario3.count_dirty())"
      ]
    },
    {
      "cell_type": "markdown",
      "metadata": {},
      "source": [
        "Escenario 4:\n",
        "Cantidad óptima de aspiradoras que debe de tener para realizar la limpieza en el menor tiempo posible\n",
        "Maximo numero de aspiradoras = 10"
      ]
    },
    {
      "cell_type": "code",
      "execution_count": 52,
      "metadata": {},
      "outputs": [
        {
          "name": "stdout",
          "output_type": "stream",
          "text": [
            "Número de aspiradoras:  1\n",
            "Tiempo de ejecución:  6.46 segundos\n",
            "Celdas limpias:  252\n",
            "Celdas sucias: 87.48%\n",
            "\n",
            "Número de aspiradoras:  2\n",
            "Tiempo de ejecución:  10.32 segundos\n",
            "Celdas limpias:  338\n",
            "Celdas sucias: 86.62%\n",
            "\n",
            "Número de aspiradoras:  3\n",
            "Tiempo de ejecución:  17.20 segundos\n",
            "Celdas limpias:  656\n",
            "Celdas sucias: 83.44%\n",
            "\n",
            "Número de aspiradoras:  4\n",
            "Tiempo de ejecución:  17.33 segundos\n",
            "Celdas limpias:  539\n",
            "Celdas sucias: 84.61%\n",
            "\n",
            "Número de aspiradoras:  5\n",
            "Tiempo de ejecución:  10.78 segundos\n",
            "Celdas limpias:  858\n",
            "Celdas sucias: 81.42%\n",
            "\n",
            "Número de aspiradoras:  6\n",
            "Tiempo de ejecución:  6.95 segundos\n",
            "Celdas limpias:  942\n",
            "Celdas sucias: 80.58%\n",
            "\n",
            "Número de aspiradoras:  7\n",
            "Tiempo de ejecución:  9.03 segundos\n",
            "Celdas limpias:  1169\n",
            "Celdas sucias: 78.31%\n",
            "\n",
            "Número de aspiradoras:  8\n",
            "Tiempo de ejecución:  7.88 segundos\n",
            "Celdas limpias:  1018\n",
            "Celdas sucias: 79.82%\n",
            "\n",
            "Número de aspiradoras:  9\n",
            "Tiempo de ejecución:  7.17 segundos\n",
            "Celdas limpias:  970\n",
            "Celdas sucias: 80.30%\n",
            "\n",
            "Número de aspiradoras:  10\n",
            "Tiempo de ejecución:  11.14 segundos\n",
            "Celdas limpias:  1017\n",
            "Celdas sucias: 79.83%\n",
            "\n"
          ]
        }
      ],
      "source": [
        "##constantes:\n",
        "WIDTH = 100\n",
        "HEIGHT = 100\n",
        "VACUMS = [1,2,3,4,5,6,7,8,9,10]\n",
        "ITERATIONS = 1000\n",
        "DIRTY_CELLS_PERCENT = 0.90\n",
        "TIMES = []\n",
        "CELDAS_LIMPIAS = []\n",
        "\n",
        "##crea el modelo\n",
        "for i in VACUMS:\n",
        "    \n",
        "    print(\"Número de aspiradoras: \", i)\n",
        "\n",
        "    ##Conntador del tiempo\n",
        "    start_time = tm.time()\n",
        "    \n",
        "    escenario4 = VacumModel(WIDTH, HEIGHT, i, DIRTY_CELLS_PERCENT)\n",
        "\n",
        "    ##recorrer el modelo\n",
        "    for i in range (ITERATIONS):\n",
        "        escenario4.step()\n",
        "\n",
        "    ##finalizar contador\n",
        "    end_time = tm.time()\n",
        "\n",
        "    ##tiempo de ejecución\n",
        "    execution_time = float(end_time - start_time)\n",
        "\n",
        "    ##imprime el tiempo de ejecución\n",
        "\n",
        "    print(\"Tiempo de ejecución: \", f\"{execution_time:.2f}\", \"segundos\")\n",
        "\n",
        "    ##imprime el número de celdas limpias\n",
        "    print(\"Celdas limpias: \", escenario4.cleaned)\n",
        "\n",
        "    ##calclula el porcentaje de celdas sucias\n",
        "    final_dirty = escenario4.count_dirty() / (WIDTH * HEIGHT) * 100  \n",
        "\n",
        "    ##imprime el porcentaje de celdas sucias\n",
        "    print(f\"Celdas sucias: {final_dirty:.2f}%\\n\")\n",
        "\n",
        "    ##Celdas totales limpias:\n",
        "    clean = escenario4.cleaned + (WIDTH * HEIGHT) * (0.10)\n",
        "\n",
        "    \n",
        "    TIMES.append(execution_time) \n",
        "    CELDAS_LIMPIAS.append(clean)\n"
      ]
    },
    {
      "cell_type": "markdown",
      "metadata": {},
      "source": [
        "Grafica de Aspiradoras vs Tiempo"
      ]
    },
    {
      "cell_type": "code",
      "execution_count": 63,
      "metadata": {},
      "outputs": [
        {
          "data": {
            "image/png": "[encoded data removed]",
            "text/plain": [
              "<Figure size 500x500 with 2 Axes>"
            ]
          },
          "metadata": {},
          "output_type": "display_data"
        }
      ],
      "source": [
        "x = VACUMS\n",
        "y = TIMES\n",
        "z = CELDAS_LIMPIAS\n",
        "\n",
        "# plot\n",
        "fig, ax = plt.subplots(figsize=(5, 5))\n",
        "\n",
        "sc = ax.scatter(x, y, c = z, cmap='viridis', s=100, vmin = min(CELDAS_LIMPIAS), vmax = max(CELDAS_LIMPIAS))\n",
        "\n",
        "ax.set(xlim=(1, VACUMS[-1]), xticks=np.arange(1, VACUMS[-1] + 1),\n",
        "       ylim=(0, max(TIMES) + 2), yticks=np.arange(0, max(TIMES) + 2, 1)),\n",
        "\n",
        "## Agregar título\n",
        "title = \"Cantidad óptima de aspiradoras\"\n",
        "ax.set_title(title, fontsize=10)\n",
        "ax.set_xlabel(\"Aspiradoras\", fontsize=8)\n",
        "ax.set_ylabel(\"Time (s)\", fontsize=8)\n",
        "\n",
        "## Agregar cuadrícula\n",
        "ax.grid(True)\n",
        "\n",
        "# Agregar barra de color\n",
        "cbar = plt.colorbar(sc, ticks=[])\n",
        "cbar.set_label('Celdas Limpias', rotation=270, labelpad=15, fontsize=10)\n",
        "\n",
        "plt.show()"
      ]
    }
  ],
  "metadata": {
    "colab": {
      "provenance": []
    },
    "kernelspec": {
      "display_name": "Python 3",
      "name": "python3"
    },
    "language_info": {
      "codemirror_mode": {
        "name": "ipython",
        "version": 3
      },
      "file_extension": ".py",
      "mimetype": "text/x-python",
      "name": "python",
      "nbconvert_exporter": "python",
      "pygments_lexer": "ipython3",
      "version": "3.12.0"
    }
  },
  "nbformat": 4,
  "nbformat_minor": 0
}
